import os
import numpy as np
import pandas as pd
import seaborn as sns
import matplotlib.pyplot as plt

from sklearn.pipeline import Pipeline
from sklearn.preprocessing import OneHotEncoder, StandardScaler
from sklearn.impute import SimpleImputer
from sklearn.compose import ColumnTransformer
from sklearn.decomposition import PCA

# ==========================
# 🔹 Carregando os Dados
# ==========================
def load_data(path: str) -> pd.DataFrame:
    """Carrega o dataset do Titanic"""
    df = pd.read_csv(path)
    return df

def basic_eda(df: pd.DataFrame):
    print("🔍 Informações do Dataset")
    print(df.info())
    print("\n📊 Estatísticas Descritivas")
    print(df.describe(include="all").T)
    print("\n❌ Valores Ausentes")
    print(df.isna().sum())

    # Visualização de missing
    plt.figure(figsize=(8,5))
    sns.heatmap(df.isna(), cbar=False, cmap="viridis")
    plt.title("Mapa de Valores Ausentes")
    plt.show()

    # Distribuições principais
    sns.histplot(df['Age'].dropna(), bins=30, kde=True)
    plt.title("Distribuição de Idade")
    plt.show()

    sns.boxplot(x=df['Fare'])
    plt.title("Boxplot da Tarifa (Fare)")
    plt.show()

# ==========================
# 🔹 Funções Auxiliares
# ==========================
def extract_title(name: str) -> str:
    """Extrai o título do passageiro a partir do campo 'Name'"""
    if pd.isnull(name): return "Unknown"
    return name.split(",")[1].split(".")[0].strip()

# ==========================
# 🔹 Limpeza + Integração + Redução
# ==========================
def preprocess_data(df: pd.DataFrame) -> pd.DataFrame:
    df = df.copy()

    # ---- Integração de Features ----
    df['Title'] = df['Name'].apply(extract_title)
    rare_titles = ['Lady','Countess','Capt','Col','Don','Dr','Major','Rev','Sir','Jonkheer','Dona']
    df['Title'] = df['Title'].replace(rare_titles, 'Rare')
    df['Title'] = df['Title'].replace({'Mlle':'Miss','Ms':'Miss','Mme':'Mrs'})

    df['Deck'] = df['Cabin'].astype(str).str[0]
    df['Deck'] = df['Deck'].replace('n', 'Unknown')

    df['FamilySize'] = df['SibSp'] + df['Parch'] + 1
    df['IsAlone'] = (df['FamilySize'] == 1).astype(int)

    # ---- Limpeza de Dados ----
    df['Embarked'] = df['Embarked'].fillna(df['Embarked'].mode()[0])
    df['Fare'] = df['Fare'].fillna(df['Fare'].median())

    # Idade imputada por Pclass + Title
    df['Age'] = df['Age'].astype(float)
    age_fill = df.groupby(['Pclass','Title'])['Age'].median()
    def fill_age(row):
        if np.isnan(row['Age']):
            try:
                return age_fill.loc[row['Pclass'], row['Title']]
            except:
                return df['Age'].median()
        return row['Age']
    df['Age'] = df.apply(fill_age, axis=1)

    # Outliers de Fare (IQR)
    Q1, Q3 = df['Fare'].quantile([0.25, 0.75])
    IQR = Q3 - Q1
    lower, upper = Q1 - 1.5*IQR, Q3 + 1.5*IQR
    df['Fare'] = df['Fare'].clip(lower, upper)

    # ---- Redução ----
    df.drop(['PassengerId','Ticket','Name','Cabin'], axis=1, inplace=True, errors='ignore')

    return df
# ==========================
# 🔹 Transformação (Pipeline Scikit-learn)
# ==========================
def build_pipeline(use_pca=False):
    numeric_features = ['Age','Fare','FamilySize']
    categorical_features = ['Sex','Embarked','Title','Deck','Pclass','IsAlone']

    numeric_transformer = Pipeline(steps=[
        ('imputer', SimpleImputer(strategy='median')),
        ('scaler', StandardScaler())
    ])

    categorical_transformer = Pipeline(steps=[
        ('imputer', SimpleImputer(strategy='most_frequent')),
        ('onehot', OneHotEncoder(handle_unknown='ignore'))
    ])

    preprocessor = ColumnTransformer(
        transformers=[
            ('num', numeric_transformer, numeric_features),
            ('cat', categorical_transformer, categorical_features)
        ]
    )

    steps = [('preprocessor', preprocessor)]
    if use_pca:
        steps.append(('pca', PCA(n_components=0.95)))

    pipeline = Pipeline(steps)
    return pipeline

# ==========================
# 🔹 Execução Principal
# ==========================
if __name__ == "__main__":
    # Update the path to a location accessible in Colab
    path = "/content/sample_data/Titanic-Dataset.csv"
    df = load_data(path)

    # EDA inicial
    basic_eda(df)

    # Pré-processamento
    clean_df = preprocess_data(df)
    print("\n✅ Dataset após pré-processamento:")
    print(clean_df.head())

    # Pipeline
    pipe = build_pipeline(use_pca=True)
    X = clean_df.drop('Survived', axis=1)
    y = clean_df['Survived']

    X_transformed = pipe.fit_transform(X)
    print("\n🔧 Shape após transformação:", X_transformed.shape)
